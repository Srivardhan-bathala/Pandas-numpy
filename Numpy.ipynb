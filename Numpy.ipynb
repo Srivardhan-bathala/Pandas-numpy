{
 "cells": [
  {
   "cell_type": "code",
   "execution_count": 1,
   "metadata": {},
   "outputs": [],
   "source": [
    "#uploading library\n",
    "import numpy as np"
   ]
  },
  {
   "cell_type": "code",
   "execution_count": 8,
   "metadata": {},
   "outputs": [
    {
     "name": "stdout",
     "output_type": "stream",
     "text": [
      "46\n",
      "331\n",
      "136\n",
      "11.090536506409418\n",
      "-1.0\n"
     ]
    }
   ],
   "source": [
    "#basic calculations\n",
    "print(np.add(12,34))\n",
    "print(np.subtract(365,34))\n",
    "print(np.multiply(2,68))\n",
    "print(np.sqrt(123))\n",
    "print(np.cos(np.pi))"
   ]
  },
  {
   "cell_type": "code",
   "execution_count": 21,
   "metadata": {},
   "outputs": [
    {
     "name": "stdout",
     "output_type": "stream",
     "text": [
      "[23 54 34]\n"
     ]
    }
   ],
   "source": [
    "#creating numpy array using lists\n",
    "arr = np.array([23,54,34])\n",
    "print(arr)"
   ]
  },
  {
   "cell_type": "code",
   "execution_count": 11,
   "metadata": {},
   "outputs": [
    {
     "name": "stdout",
     "output_type": "stream",
     "text": [
      "[[ 1  2  3]\n",
      " [34 56 75]\n",
      " [12 45 32]]\n"
     ]
    }
   ],
   "source": [
    "#creating matrices using lists\n",
    "matx = np.array([[1,2,3],[34,56,75],[12,45,32]])\n",
    "print(matx)"
   ]
  },
  {
   "cell_type": "code",
   "execution_count": 16,
   "metadata": {},
   "outputs": [
    {
     "name": "stdout",
     "output_type": "stream",
     "text": [
      "[0 1 2 3 4 5 6 7 8 9]\n",
      "[ 2  7 12]\n",
      "[ 0.    8.75 17.5  26.25 35.  ]\n"
     ]
    }
   ],
   "source": [
    "#other ways to create numpy arrays\n",
    "aur = np.arange(0,10)\n",
    "print(aur)\n",
    "arr2 = np.arange(2,16,5)\n",
    "print(arr2)\n",
    "arr3 = np.linspace(0,35,5)\n",
    "print(arr3)"
   ]
  },
  {
   "cell_type": "code",
   "execution_count": 18,
   "metadata": {},
   "outputs": [
    {
     "name": "stdout",
     "output_type": "stream",
     "text": [
      "[[0. 0. 0. 0.]\n",
      " [0. 0. 0. 0.]\n",
      " [0. 0. 0. 0.]\n",
      " [0. 0. 0. 0.]\n",
      " [0. 0. 0. 0.]\n",
      " [0. 0. 0. 0.]\n",
      " [0. 0. 0. 0.]]\n",
      "[[1. 1. 1. 1. 1.]\n",
      " [1. 1. 1. 1. 1.]\n",
      " [1. 1. 1. 1. 1.]]\n",
      "[[1. 0. 0. 0.]\n",
      " [0. 1. 0. 0.]\n",
      " [0. 0. 1. 0.]\n",
      " [0. 0. 0. 1.]]\n"
     ]
    }
   ],
   "source": [
    "#other ways to create matrices using numpy\n",
    "matx1 = np.zeros([7,4])\n",
    "print(matx1)\n",
    "matx2 = np.ones((3,5))\n",
    "print(matx2)\n",
    "matx3 = np.eye(4)\n",
    "print(matx3)"
   ]
  },
  {
   "cell_type": "code",
   "execution_count": 19,
   "metadata": {},
   "outputs": [
    {
     "name": "stdout",
     "output_type": "stream",
     "text": [
      "[ 4  6  8 10 12 14]\n",
      "[-2 -2 -2 -2 -2 -2]\n",
      "[ 3  8 15 24 35 48]\n"
     ]
    }
   ],
   "source": [
    "# if size is same we can perform array +,-,*,/\n",
    "ar1 = np.arange(1,7)\n",
    "ar2 = np.arange(3,9)\n",
    "print(ar1+ar2)\n",
    "print(ar1-ar2)\n",
    "print(ar1*ar2)"
   ]
  },
  {
   "cell_type": "code",
   "execution_count": 25,
   "metadata": {},
   "outputs": [
    {
     "name": "stdout",
     "output_type": "stream",
     "text": [
      "[ 233 6356 3794]\n",
      "[23. 54. 34.]\n"
     ]
    }
   ],
   "source": [
    "#matrix multiplication\n",
    "mult = np.matmul(matx,arr)\n",
    "print(mult)\n",
    "\n",
    "#solving a linear matrix equation\n",
    "print(np.linalg.solve(matx,mult))"
   ]
  },
  {
   "cell_type": "code",
   "execution_count": 27,
   "metadata": {},
   "outputs": [
    {
     "name": "stdout",
     "output_type": "stream",
     "text": [
      "[[0.47110959 0.46046734 0.97049715 0.60912994]\n",
      " [0.38155871 0.22144951 0.84303804 0.94846801]\n",
      " [0.23863049 0.57947453 0.58420017 0.62466356]\n",
      " [0.59559525 0.13047666 0.4779596  0.23949584]]\n",
      "[[ 2.48878889 -1.36139261  1.50242006]\n",
      " [ 0.37336214  1.02532592 -0.62505562]\n",
      " [ 0.90357387 -0.51277492 -0.55558107]\n",
      " [ 0.22904895  0.42694013  0.12042023]\n",
      " [ 0.55042989 -1.44942594  1.25989744]]\n"
     ]
    }
   ],
   "source": [
    "# generating samples of random variables\n",
    "rmat = np.random.rand(4,4) #uniform random variable\n",
    "print(rmat)\n",
    "rmat1 = np.random.randn(5,3) #standard random variable\n",
    "print(rmat1)\n"
   ]
  },
  {
   "cell_type": "code",
   "execution_count": 29,
   "metadata": {},
   "outputs": [
    {
     "name": "stdout",
     "output_type": "stream",
     "text": [
      "28.88888888888889\n",
      "24.973071917320354\n",
      "1\n",
      "75\n"
     ]
    }
   ],
   "source": [
    "#statistics using numpy\n",
    "print(np.mean(matx))\n",
    "print(np.std(matx))\n",
    "print(np.min(matx))\n",
    "print(np.max(matx))"
   ]
  },
  {
   "cell_type": "code",
   "execution_count": 30,
   "metadata": {},
   "outputs": [
    {
     "name": "stdout",
     "output_type": "stream",
     "text": [
      "[-8.53965193e-01  5.78972194e-01 -3.49552510e-01  7.66360383e-01\n",
      " -2.21052538e-01 -7.76525462e-01 -2.91064837e-01  5.99559684e-01\n",
      " -3.35459373e-01 -1.20219501e+00 -2.73108899e+00 -1.26172799e+00\n",
      "  3.56547485e-01 -2.31947648e-01 -1.26149755e-01 -4.14742259e-01\n",
      "  9.51316890e-01 -5.68075195e-01 -1.34588476e-03 -1.05685823e+00]\n",
      "-0.3354593727721057\n",
      "[-0.34955251  0.76636038 -0.22105254 -0.77652546 -0.29106484  0.59955968\n",
      " -0.33545937 -1.20219501]\n"
     ]
    }
   ],
   "source": [
    "# accessing variables in numpy array\n",
    "new_arr = np.random.randn(20)\n",
    "print(new_arr)\n",
    "print(new_arr[8])\n",
    "print(new_arr[2:10])"
   ]
  },
  {
   "cell_type": "code",
   "execution_count": 34,
   "metadata": {},
   "outputs": [
    {
     "name": "stdout",
     "output_type": "stream",
     "text": [
      "[[ 1  2  3]\n",
      " [34 56 75]\n",
      " [12 45 32]]\n",
      "75\n",
      "[[ 1  2  3]\n",
      " [34 56 75]]\n"
     ]
    }
   ],
   "source": [
    "#accessing matrices\n",
    "print(matx)\n",
    "print(matx[1][2])\n",
    "print(matx[0:2,0:3])"
   ]
  },
  {
   "cell_type": "code",
   "execution_count": 37,
   "metadata": {},
   "outputs": [
    {
     "name": "stdout",
     "output_type": "stream",
     "text": [
      "[-8.53965193e-01  5.78972194e-01  3.00000000e+00  3.00000000e+00\n",
      " -2.21052538e-01 -7.76525462e-01 -2.91064837e-01  5.99559684e-01\n",
      " -3.35459373e-01 -1.20219501e+00 -2.73108899e+00 -1.26172799e+00\n",
      "  3.56547485e-01 -2.31947648e-01 -1.26149755e-01 -4.14742259e-01\n",
      "  9.51316890e-01 -5.68075195e-01 -1.34588476e-03 -1.05685823e+00]\n",
      "[-8.53965193e-01  5.78972194e-01  2.00000000e+00  3.00000000e+00\n",
      " -2.21052538e-01 -7.76525462e-01 -2.91064837e-01  5.99559684e-01\n",
      " -3.35459373e-01 -1.20219501e+00 -2.73108899e+00 -1.26172799e+00\n",
      "  3.56547485e-01 -2.31947648e-01 -1.26149755e-01 -4.14742259e-01\n",
      "  9.51316890e-01 -5.68075195e-01 -1.34588476e-03 -1.05685823e+00]\n"
     ]
    }
   ],
   "source": [
    "#reassigning values\n",
    "new_arr[2:4] = 3\n",
    "print(new_arr)\n",
    "new_arr[2:4] = [2,3]\n",
    "print(new_arr)"
   ]
  },
  {
   "cell_type": "code",
   "execution_count": 39,
   "metadata": {},
   "outputs": [
    {
     "name": "stdout",
     "output_type": "stream",
     "text": [
      "[[ 1  2  3]\n",
      " [34  0  0]\n",
      " [12  0  0]]\n"
     ]
    }
   ],
   "source": [
    "matx[1:3,1:3] = 0\n",
    "print(matx)"
   ]
  },
  {
   "cell_type": "code",
   "execution_count": 41,
   "metadata": {},
   "outputs": [
    {
     "name": "stdout",
     "output_type": "stream",
     "text": [
      "[False  True  True  True False False False  True False False False False\n",
      "  True False False False  True False False False]\n",
      "[0.57897219 2.         3.         0.59955968 0.35654748 0.95131689]\n"
     ]
    }
   ],
   "source": [
    "#we can also access using logic\n",
    "print(new_arr>0)\n",
    "print(new_arr[new_arr>0])\n",
    "print(matx>0)\n",
    "print(new_arr[new_arr>0])"
   ]
  },
  {
   "cell_type": "code",
   "execution_count": null,
   "metadata": {},
   "outputs": [],
   "source": []
  }
 ],
 "metadata": {
  "kernelspec": {
   "display_name": "Python 3",
   "language": "python",
   "name": "python3"
  },
  "language_info": {
   "codemirror_mode": {
    "name": "ipython",
    "version": 3
   },
   "file_extension": ".py",
   "mimetype": "text/x-python",
   "name": "python",
   "nbconvert_exporter": "python",
   "pygments_lexer": "ipython3",
   "version": "3.8.5"
  }
 },
 "nbformat": 4,
 "nbformat_minor": 4
}
